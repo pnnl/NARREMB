{
 "cells": [
  {
   "cell_type": "code",
   "execution_count": 1,
   "id": "5d949b18",
   "metadata": {},
   "outputs": [],
   "source": [
    "import sys\n",
    "sys.path.append('../libs')"
   ]
  },
  {
   "cell_type": "code",
   "execution_count": 2,
   "id": "c0a9f7e0",
   "metadata": {},
   "outputs": [],
   "source": [
    "import pandas as pd\n",
    "import numpy as np"
   ]
  },
  {
   "cell_type": "code",
   "execution_count": 4,
   "id": "a658be15",
   "metadata": {},
   "outputs": [],
   "source": [
    "from model_evaluation_helpers import *\n",
    "from visualization_helpers import *"
   ]
  },
  {
   "cell_type": "code",
   "execution_count": 5,
   "id": "00f371d9",
   "metadata": {},
   "outputs": [],
   "source": [
    "# %load_ext autoreload\n",
    "# %autoreload 2"
   ]
  },
  {
   "cell_type": "markdown",
   "id": "e70f67d0",
   "metadata": {},
   "source": [
    "### Load Data"
   ]
  },
  {
   "cell_type": "code",
   "execution_count": 6,
   "id": "e174e91c",
   "metadata": {},
   "outputs": [],
   "source": [
    "# List of path/modelID tuples\n",
    "path_to_models = [\n",
    "    (\"../dummy_data/embeds/baseline_embs.csv\", \"Baseline\"),\n",
    "    (\"../dummy_data/embeds/model_embs.csv\", \"Model\")\n",
    "]"
   ]
  },
  {
   "cell_type": "code",
   "execution_count": 7,
   "id": "4b4dc1d0",
   "metadata": {},
   "outputs": [],
   "source": [
    "path_to_annotations = \"../dummy_data/text/annotated_tweets.csv\""
   ]
  },
  {
   "cell_type": "code",
   "execution_count": 8,
   "id": "d0b5c9b2",
   "metadata": {},
   "outputs": [],
   "source": [
    "# Load annotated tweets\n",
    "annotations = pd.read_csv(path_to_annotations)\n",
    "annotations = annotations.rename(columns={'nodeID':'tweet_id'})"
   ]
  },
  {
   "cell_type": "markdown",
   "id": "85952cd4",
   "metadata": {},
   "source": [
    "### Compute kNN metrics"
   ]
  },
  {
   "cell_type": "markdown",
   "id": "0a5cb3cd",
   "metadata": {},
   "source": [
    "##### Parameters"
   ]
  },
  {
   "cell_type": "code",
   "execution_count": 9,
   "id": "52a4ac0a",
   "metadata": {},
   "outputs": [],
   "source": [
    "groupby_cols = ['model_id', 'N']\n",
    "pca_norm = False # If True apply PCA to embeddings\n",
    "n_neighbors = [1,3,5,7,9,11,13,15] # Number of K values to consider"
   ]
  },
  {
   "cell_type": "markdown",
   "id": "cdb2cfb8",
   "metadata": {},
   "source": [
    "##### Compute ViewpointNN"
   ]
  },
  {
   "cell_type": "code",
   "execution_count": 10,
   "id": "b70809a0",
   "metadata": {
    "scrolled": false
   },
   "outputs": [
    {
     "name": "stderr",
     "output_type": "stream",
     "text": [
      "100%|█████████████████████████████████████████████████████████████████████████████████████████████| 2/2 [00:00<00:00,  8.52it/s]\n",
      "100%|█████████████████████████████████████████████████████████████████████████████████████████████| 2/2 [00:00<00:00, 32.22it/s]\n",
      "100%|█████████████████████████████████████████████████████████████████████████████████████████████| 2/2 [00:00<00:00, 63.24it/s]\n",
      "100%|█████████████████████████████████████████████████████████████████████████████████████████████| 2/2 [00:00<00:00, 62.12it/s]\n",
      "100%|█████████████████████████████████████████████████████████████████████████████████████████████| 2/2 [00:00<00:00, 60.61it/s]\n",
      "100%|█████████████████████████████████████████████████████████████████████████████████████████████| 2/2 [00:00<00:00, 55.91it/s]\n",
      "100%|█████████████████████████████████████████████████████████████████████████████████████████████| 2/2 [00:00<00:00, 55.99it/s]\n",
      "100%|█████████████████████████████████████████████████████████████████████████████████████████████| 2/2 [00:00<00:00, 54.97it/s]\n"
     ]
    }
   ],
   "source": [
    "viewpoint_df = []\n",
    "for n in n_neighbors:\n",
    "    df = compute_nn_metrics(path_to_models, \n",
    "                            test_df=annotations, \n",
    "                            n=n, \n",
    "                            metric='viewpoint', \n",
    "                            pca_norm=False)\n",
    "    viewpoint_df.append(df)\n",
    "viewpoint_df = pd.concat(viewpoint_df, ignore_index=True)\n",
    "viewpoint_df['prediction'] = viewpoint_df['actual_class'] == viewpoint_df['majority_class']"
   ]
  },
  {
   "cell_type": "code",
   "execution_count": 11,
   "id": "4cc253bd",
   "metadata": {},
   "outputs": [
    {
     "data": {
      "text/html": [
       "<div>\n",
       "<style scoped>\n",
       "    .dataframe tbody tr th:only-of-type {\n",
       "        vertical-align: middle;\n",
       "    }\n",
       "\n",
       "    .dataframe tbody tr th {\n",
       "        vertical-align: top;\n",
       "    }\n",
       "\n",
       "    .dataframe thead th {\n",
       "        text-align: right;\n",
       "    }\n",
       "</style>\n",
       "<table border=\"1\" class=\"dataframe\">\n",
       "  <thead>\n",
       "    <tr style=\"text-align: right;\">\n",
       "      <th></th>\n",
       "      <th>model_id</th>\n",
       "      <th>N</th>\n",
       "      <th>viewpointNN</th>\n",
       "    </tr>\n",
       "  </thead>\n",
       "  <tbody>\n",
       "    <tr>\n",
       "      <th>0</th>\n",
       "      <td>Baseline</td>\n",
       "      <td>1</td>\n",
       "      <td>0.55</td>\n",
       "    </tr>\n",
       "    <tr>\n",
       "      <th>1</th>\n",
       "      <td>Baseline</td>\n",
       "      <td>3</td>\n",
       "      <td>0.55</td>\n",
       "    </tr>\n",
       "    <tr>\n",
       "      <th>2</th>\n",
       "      <td>Baseline</td>\n",
       "      <td>5</td>\n",
       "      <td>0.55</td>\n",
       "    </tr>\n",
       "    <tr>\n",
       "      <th>3</th>\n",
       "      <td>Baseline</td>\n",
       "      <td>7</td>\n",
       "      <td>0.55</td>\n",
       "    </tr>\n",
       "    <tr>\n",
       "      <th>4</th>\n",
       "      <td>Baseline</td>\n",
       "      <td>9</td>\n",
       "      <td>0.35</td>\n",
       "    </tr>\n",
       "  </tbody>\n",
       "</table>\n",
       "</div>"
      ],
      "text/plain": [
       "   model_id  N  viewpointNN\n",
       "0  Baseline  1         0.55\n",
       "1  Baseline  3         0.55\n",
       "2  Baseline  5         0.55\n",
       "3  Baseline  7         0.55\n",
       "4  Baseline  9         0.35"
      ]
     },
     "execution_count": 11,
     "metadata": {},
     "output_type": "execute_result"
    }
   ],
   "source": [
    "results1 = (\n",
    "    viewpoint_df\n",
    "    .groupby(groupby_cols)\n",
    "    .apply(lambda x: x['prediction'].sum()/len(x)) # sum TP divide by num of instances\n",
    "    .reset_index(name='viewpointNN')\n",
    ")\n",
    "results1.head(5).round(4)"
   ]
  },
  {
   "cell_type": "markdown",
   "id": "2b8bed56",
   "metadata": {},
   "source": [
    "##### Compute TopicNN"
   ]
  },
  {
   "cell_type": "code",
   "execution_count": 12,
   "id": "dadefba6",
   "metadata": {},
   "outputs": [
    {
     "name": "stderr",
     "output_type": "stream",
     "text": [
      "100%|█████████████████████████████████████████████████████████████████████████████████████████████| 2/2 [00:00<00:00, 23.76it/s]\n",
      "100%|█████████████████████████████████████████████████████████████████████████████████████████████| 2/2 [00:00<00:00, 38.56it/s]\n",
      "100%|█████████████████████████████████████████████████████████████████████████████████████████████| 2/2 [00:00<00:00, 39.26it/s]\n",
      "100%|█████████████████████████████████████████████████████████████████████████████████████████████| 2/2 [00:00<00:00, 33.48it/s]\n",
      "100%|█████████████████████████████████████████████████████████████████████████████████████████████| 2/2 [00:00<00:00, 37.53it/s]\n",
      "100%|█████████████████████████████████████████████████████████████████████████████████████████████| 2/2 [00:00<00:00, 35.86it/s]\n",
      "100%|█████████████████████████████████████████████████████████████████████████████████████████████| 2/2 [00:00<00:00, 20.20it/s]\n",
      "100%|█████████████████████████████████████████████████████████████████████████████████████████████| 2/2 [00:00<00:00, 31.19it/s]\n"
     ]
    }
   ],
   "source": [
    "topic_df = []\n",
    "for n in n_neighbors:\n",
    "    df = compute_nn_metrics(path_to_models,\n",
    "                            test_df=annotations,\n",
    "                            n=n,\n",
    "                            metric='topic',\n",
    "                            pca_norm=False)\n",
    "    topic_df.append(df)\n",
    "topic_df = pd.concat(topic_df, ignore_index=True)\n",
    "topic_df['prediction'] = topic_df['majority_class']"
   ]
  },
  {
   "cell_type": "code",
   "execution_count": 13,
   "id": "6ec2ac74",
   "metadata": {},
   "outputs": [
    {
     "data": {
      "text/html": [
       "<div>\n",
       "<style scoped>\n",
       "    .dataframe tbody tr th:only-of-type {\n",
       "        vertical-align: middle;\n",
       "    }\n",
       "\n",
       "    .dataframe tbody tr th {\n",
       "        vertical-align: top;\n",
       "    }\n",
       "\n",
       "    .dataframe thead th {\n",
       "        text-align: right;\n",
       "    }\n",
       "</style>\n",
       "<table border=\"1\" class=\"dataframe\">\n",
       "  <thead>\n",
       "    <tr style=\"text-align: right;\">\n",
       "      <th></th>\n",
       "      <th>model_id</th>\n",
       "      <th>N</th>\n",
       "      <th>topicNN</th>\n",
       "    </tr>\n",
       "  </thead>\n",
       "  <tbody>\n",
       "    <tr>\n",
       "      <th>0</th>\n",
       "      <td>Baseline</td>\n",
       "      <td>1</td>\n",
       "      <td>1.0</td>\n",
       "    </tr>\n",
       "    <tr>\n",
       "      <th>1</th>\n",
       "      <td>Baseline</td>\n",
       "      <td>3</td>\n",
       "      <td>1.0</td>\n",
       "    </tr>\n",
       "    <tr>\n",
       "      <th>2</th>\n",
       "      <td>Baseline</td>\n",
       "      <td>5</td>\n",
       "      <td>1.0</td>\n",
       "    </tr>\n",
       "    <tr>\n",
       "      <th>3</th>\n",
       "      <td>Baseline</td>\n",
       "      <td>7</td>\n",
       "      <td>1.0</td>\n",
       "    </tr>\n",
       "    <tr>\n",
       "      <th>4</th>\n",
       "      <td>Baseline</td>\n",
       "      <td>9</td>\n",
       "      <td>1.0</td>\n",
       "    </tr>\n",
       "  </tbody>\n",
       "</table>\n",
       "</div>"
      ],
      "text/plain": [
       "   model_id  N  topicNN\n",
       "0  Baseline  1      1.0\n",
       "1  Baseline  3      1.0\n",
       "2  Baseline  5      1.0\n",
       "3  Baseline  7      1.0\n",
       "4  Baseline  9      1.0"
      ]
     },
     "execution_count": 13,
     "metadata": {},
     "output_type": "execute_result"
    }
   ],
   "source": [
    "results2 = (\n",
    "    topic_df\n",
    "    .groupby(groupby_cols)\n",
    "    .apply(lambda x: x['prediction'].sum()/len(x)) # sum TP divide by num of instances\n",
    "    .reset_index(name='topicNN')\n",
    ")\n",
    "results2.head(5).round(4)"
   ]
  },
  {
   "cell_type": "markdown",
   "id": "d5f73eb8",
   "metadata": {},
   "source": [
    "##### Merge Results"
   ]
  },
  {
   "cell_type": "code",
   "execution_count": 14,
   "id": "f234131c",
   "metadata": {},
   "outputs": [],
   "source": [
    "results = pd.merge(results1, results2, on=groupby_cols, how='inner')"
   ]
  },
  {
   "cell_type": "markdown",
   "id": "1cbe5f82",
   "metadata": {},
   "source": [
    "### Visualizations"
   ]
  },
  {
   "cell_type": "markdown",
   "id": "db3008a8",
   "metadata": {},
   "source": [
    "##### Scatter plot: ViewpointNN vs. TopicNN at K"
   ]
  },
  {
   "cell_type": "code",
   "execution_count": null,
   "id": "05d8ec2a",
   "metadata": {},
   "outputs": [],
   "source": [
    "K = 5\n",
    "\n",
    "# Dictionary of model_ids and corresponding label\n",
    "label_map = {\n",
    "    'Baseline':'Baseline',\n",
    "    'Model':'Model'\n",
    "}\n",
    "\n",
    "# Dictionary of model_ids and corresponding color\n",
    "color_map = {\n",
    "    'Baseline':'black',\n",
    "    'Model':'red',\n",
    "}\n",
    "\n",
    "# Parameters for plot\n",
    "plot_params = {\n",
    "    'x':'topicNN',\n",
    "    'y':'viewpointNN',\n",
    "    'hue_col':'model_id',\n",
    "    'color_map':color_map,\n",
    "    'label_map':label_map,\n",
    "    'figsize':(5,5),\n",
    "    'markersize':300,\n",
    "    'horizontal_bound':None,\n",
    "    'vertical_bound':None,\n",
    "    'hue_order':None\n",
    "}"
   ]
  },
  {
   "cell_type": "code",
   "execution_count": null,
   "id": "ddbc6ed6",
   "metadata": {},
   "outputs": [],
   "source": [
    "plot_df = results.copy()\n",
    "plot_df = plot_df.loc[plot_df['N']==K].reset_index(drop=True)"
   ]
  },
  {
   "cell_type": "code",
   "execution_count": null,
   "id": "460226b9",
   "metadata": {},
   "outputs": [],
   "source": [
    "fig = plot_scatter(plot_df, params=plot_params)"
   ]
  },
  {
   "cell_type": "markdown",
   "id": "93df392a",
   "metadata": {},
   "source": [
    "##### Line plot: performance at varying K"
   ]
  },
  {
   "cell_type": "code",
   "execution_count": null,
   "id": "8b9ce955",
   "metadata": {},
   "outputs": [],
   "source": [
    "plot_params = {\n",
    "    'x':'N',\n",
    "    'y':'viewpointNN', # viewpointNN or topicNN\n",
    "    'hue_col':'model_id',\n",
    "    'color_map':color_map,\n",
    "    'label_map':label_map,\n",
    "    'figsize':(8,5),\n",
    "    'hue_order':None\n",
    "}"
   ]
  },
  {
   "cell_type": "code",
   "execution_count": null,
   "id": "bbbea92a",
   "metadata": {},
   "outputs": [],
   "source": [
    "fig = plot_line(results, params=plot_params)"
   ]
  },
  {
   "cell_type": "markdown",
   "id": "5e6d5c16",
   "metadata": {},
   "source": [
    "##### UMAP: embeddings visualization"
   ]
  },
  {
   "cell_type": "code",
   "execution_count": null,
   "id": "cbcd66b8",
   "metadata": {},
   "outputs": [],
   "source": [
    "# Load embeddings\n",
    "embs_df = pd.read_csv(path_to_models[0][0], dtype={\"tweet_id\":str}) "
   ]
  },
  {
   "cell_type": "code",
   "execution_count": null,
   "id": "3fd2526f",
   "metadata": {},
   "outputs": [],
   "source": [
    "# add topic and stance information to embeddings\n",
    "embs_df = pd.merge(embs_df, annotations[['tweet_id', 'topic', 'stance']], on='tweet_id', how='left')"
   ]
  },
  {
   "cell_type": "code",
   "execution_count": null,
   "id": "c0bf024e",
   "metadata": {},
   "outputs": [],
   "source": [
    "plot_embeddings(embs_df)"
   ]
  }
 ],
 "metadata": {
  "kernelspec": {
   "display_name": "py38",
   "language": "python",
   "name": "py38"
  },
  "language_info": {
   "codemirror_mode": {
    "name": "ipython",
    "version": 3
   },
   "file_extension": ".py",
   "mimetype": "text/x-python",
   "name": "python",
   "nbconvert_exporter": "python",
   "pygments_lexer": "ipython3",
   "version": "3.8.13"
  }
 },
 "nbformat": 4,
 "nbformat_minor": 5
}
