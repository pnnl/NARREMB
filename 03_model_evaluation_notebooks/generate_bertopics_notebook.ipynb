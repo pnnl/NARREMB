{
 "cells": [
  {
   "cell_type": "code",
   "execution_count": null,
   "id": "90919157",
   "metadata": {},
   "outputs": [],
   "source": [
    "import sys\n",
    "sys.path.append('../libs')"
   ]
  },
  {
   "cell_type": "code",
   "execution_count": null,
   "id": "8a958a4f",
   "metadata": {},
   "outputs": [],
   "source": [
    "import pandas as pd\n",
    "import numpy as np\n",
    "from bertopic import BERTopic\n",
    "from umap import UMAP\n",
    "from hdbscan import HDBSCAN\n",
    "from sklearn.feature_extraction.text import CountVectorizer"
   ]
  },
  {
   "cell_type": "code",
   "execution_count": null,
   "id": "732115b8",
   "metadata": {},
   "outputs": [],
   "source": [
    "from model_evaluation_helpers import *\n",
    "from visualization_helpers import *"
   ]
  },
  {
   "cell_type": "code",
   "execution_count": null,
   "id": "894a14eb",
   "metadata": {},
   "outputs": [],
   "source": [
    "%load_ext autoreload\n",
    "%autoreload 2"
   ]
  },
  {
   "cell_type": "markdown",
   "id": "fa28c6e0",
   "metadata": {},
   "source": [
    "### Load Data"
   ]
  },
  {
   "cell_type": "code",
   "execution_count": null,
   "id": "105fe978",
   "metadata": {},
   "outputs": [],
   "source": [
    "path_to_annotations = \"../dummy_data/text/annotated_tweets.csv\"\n",
    "\n",
    "# Load annotated tweets\n",
    "annotations = pd.read_csv(path_to_annotations)\n",
    "annotations = annotations.rename(columns={'nodeID':'tweet_id'})\n",
    "annotations['label'] = annotations['topic'].astype(str) + ' - ' + annotations['stance'].astype(str)"
   ]
  },
  {
   "cell_type": "code",
   "execution_count": null,
   "id": "641f7e6a",
   "metadata": {},
   "outputs": [],
   "source": [
    "path_to_model_embeddings = \"../dummy_data/embeds/baseline_embs.csv\""
   ]
  },
  {
   "cell_type": "code",
   "execution_count": null,
   "id": "f50a6037",
   "metadata": {},
   "outputs": [],
   "source": [
    "ids, labels, docs, embs = bertopic_load_embeddings(path=path_to_model_embeddings, test_df=annotations)"
   ]
  },
  {
   "cell_type": "markdown",
   "id": "a1e05021",
   "metadata": {},
   "source": [
    "### Run BERTopic"
   ]
  },
  {
   "cell_type": "markdown",
   "id": "de3d963a",
   "metadata": {},
   "source": [
    "##### UMAP and HDBSCAN parameters"
   ]
  },
  {
   "cell_type": "code",
   "execution_count": null,
   "id": "21ef3b1e",
   "metadata": {},
   "outputs": [],
   "source": [
    "umap_args = {\n",
    "    'n_neighbors': 15,\n",
    "    'n_components': 10,\n",
    "    'random_state':42\n",
    "}\n",
    "\n",
    "hdbscan_args = {\n",
    "    'min_cluster_size': 15,\n",
    "    'min_samples': 5,\n",
    "    'metric': 'euclidean',\n",
    "    'cluster_selection_method':'leaf'\n",
    "}"
   ]
  },
  {
   "cell_type": "code",
   "execution_count": null,
   "id": "119cb02c",
   "metadata": {},
   "outputs": [],
   "source": [
    "# Arguments for umap and hdbscan\n",
    "umap_model = UMAP(**umap_args)\n",
    "hdbscan_model= HDBSCAN(**hdbscan_args)\n",
    "\n",
    "# Vectorizer for text preprocessing\n",
    "vectorizer_model = CountVectorizer(stop_words=\"english\", min_df=2, ngram_range=(1, 2))"
   ]
  },
  {
   "cell_type": "code",
   "execution_count": null,
   "id": "89be679e",
   "metadata": {},
   "outputs": [],
   "source": [
    "# BERTOpic Model\n",
    "topic_model = BERTopic(\n",
    "    umap_model=umap_model, \n",
    "    hdbscan_model=hdbscan_model, \n",
    "    vectorizer_model=vectorizer_model,\n",
    "    # Hyperparameters\n",
    "    top_n_words=10,\n",
    "    verbose=True).fit(docs, embs)"
   ]
  },
  {
   "cell_type": "code",
   "execution_count": null,
   "id": "8c57e529",
   "metadata": {},
   "outputs": [],
   "source": [
    "topics, probs = topic_model.fit_transform(docs, embs)"
   ]
  },
  {
   "cell_type": "code",
   "execution_count": null,
   "id": "9e987fa4",
   "metadata": {},
   "outputs": [],
   "source": [
    "doc_to_topic = pd.DataFrame(docs, columns=['doc'])\n",
    "doc_to_topic['tweet_id'] = ids\n",
    "doc_to_topic['label'] = labels\n",
    "doc_to_topic['topic'] = topics\n",
    "doc_to_topic['prob'] = probs"
   ]
  }
 ],
 "metadata": {
  "kernelspec": {
   "display_name": "py38",
   "language": "python",
   "name": "py38"
  },
  "language_info": {
   "codemirror_mode": {
    "name": "ipython",
    "version": 3
   },
   "file_extension": ".py",
   "mimetype": "text/x-python",
   "name": "python",
   "nbconvert_exporter": "python",
   "pygments_lexer": "ipython3",
   "version": "3.8.13"
  }
 },
 "nbformat": 4,
 "nbformat_minor": 5
}
