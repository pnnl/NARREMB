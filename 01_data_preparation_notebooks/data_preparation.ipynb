{
 "cells": [
  {
   "cell_type": "code",
   "execution_count": 1,
   "id": "9575ec20",
   "metadata": {},
   "outputs": [],
   "source": [
    "import sys\n",
    "sys.path.append('../libs/')"
   ]
  },
  {
   "cell_type": "code",
   "execution_count": 2,
   "id": "92f8ccfc",
   "metadata": {},
   "outputs": [],
   "source": [
    "from file_utils import create_dir\n",
    "from data_process import *\n",
    "from network_sampling import *"
   ]
  },
  {
   "cell_type": "code",
   "execution_count": 3,
   "id": "ca20709b",
   "metadata": {},
   "outputs": [],
   "source": [
    "import pandas as pd\n",
    "import numpy as np\n",
    "import networkx as nx\n",
    "import matplotlib.pyplot as plt\n",
    "import seaborn as sns"
   ]
  },
  {
   "cell_type": "code",
   "execution_count": 4,
   "id": "68677c8b",
   "metadata": {},
   "outputs": [],
   "source": [
    "tqdm.pandas()"
   ]
  },
  {
   "cell_type": "code",
   "execution_count": 5,
   "id": "f4437370",
   "metadata": {},
   "outputs": [],
   "source": [
    "# %load_ext autoreload\n",
    "# %autoreload 2"
   ]
  },
  {
   "cell_type": "code",
   "execution_count": 6,
   "id": "1a1a03b4",
   "metadata": {},
   "outputs": [],
   "source": [
    "def global_find_shortest_path(source=None, target=None):\n",
    "    '''\n",
    "    Returns the shortest path length between two users. If it doesn't exist, return -1\n",
    "\n",
    "    G - networkx graph object\n",
    "    source - source user\n",
    "    target - target user\n",
    "    '''\n",
    "    global Gcc # make sure to use always the same graph\n",
    "    try:\n",
    "        sp = nx.shortest_path_length(Gcc, source=source, target=target)\n",
    "    except:\n",
    "        sp = -1\n",
    "    return sp"
   ]
  },
  {
   "cell_type": "markdown",
   "id": "450d331a",
   "metadata": {},
   "source": [
    "### Load Retweet Network"
   ]
  },
  {
   "cell_type": "markdown",
   "id": "cadfb1e7",
   "metadata": {},
   "source": [
    "Format of Retweet Network Dataframe:\n",
    "- FromUser: ID of user who retweets\n",
    "- ToUser: ID of user who got retweeted\n",
    "- count: Number of retweets from FromUser to ToUser"
   ]
  },
  {
   "cell_type": "code",
   "execution_count": 7,
   "id": "166ce93f",
   "metadata": {},
   "outputs": [],
   "source": [
    "path = \"../dummy_data/network/retweet.csv\"\n",
    "net = pd.read_csv(path)"
   ]
  },
  {
   "cell_type": "code",
   "execution_count": 8,
   "id": "750b5c17",
   "metadata": {},
   "outputs": [
    {
     "data": {
      "text/html": [
       "<div>\n",
       "<style scoped>\n",
       "    .dataframe tbody tr th:only-of-type {\n",
       "        vertical-align: middle;\n",
       "    }\n",
       "\n",
       "    .dataframe tbody tr th {\n",
       "        vertical-align: top;\n",
       "    }\n",
       "\n",
       "    .dataframe thead th {\n",
       "        text-align: right;\n",
       "    }\n",
       "</style>\n",
       "<table border=\"1\" class=\"dataframe\">\n",
       "  <thead>\n",
       "    <tr style=\"text-align: right;\">\n",
       "      <th></th>\n",
       "      <th>FromUser</th>\n",
       "      <th>ToUser</th>\n",
       "      <th>count</th>\n",
       "    </tr>\n",
       "  </thead>\n",
       "  <tbody>\n",
       "    <tr>\n",
       "      <th>0</th>\n",
       "      <td>user76</td>\n",
       "      <td>user107</td>\n",
       "      <td>1.0</td>\n",
       "    </tr>\n",
       "    <tr>\n",
       "      <th>1</th>\n",
       "      <td>user1241</td>\n",
       "      <td>user483</td>\n",
       "      <td>1.0</td>\n",
       "    </tr>\n",
       "    <tr>\n",
       "      <th>2</th>\n",
       "      <td>user308</td>\n",
       "      <td>user1595</td>\n",
       "      <td>1.0</td>\n",
       "    </tr>\n",
       "    <tr>\n",
       "      <th>3</th>\n",
       "      <td>user189</td>\n",
       "      <td>user609</td>\n",
       "      <td>1.0</td>\n",
       "    </tr>\n",
       "    <tr>\n",
       "      <th>4</th>\n",
       "      <td>user820</td>\n",
       "      <td>user9</td>\n",
       "      <td>1.0</td>\n",
       "    </tr>\n",
       "  </tbody>\n",
       "</table>\n",
       "</div>"
      ],
      "text/plain": [
       "   FromUser    ToUser  count\n",
       "0    user76   user107    1.0\n",
       "1  user1241   user483    1.0\n",
       "2   user308  user1595    1.0\n",
       "3   user189   user609    1.0\n",
       "4   user820     user9    1.0"
      ]
     },
     "execution_count": 8,
     "metadata": {},
     "output_type": "execute_result"
    }
   ],
   "source": [
    "net.head()"
   ]
  },
  {
   "cell_type": "markdown",
   "id": "cea2082b",
   "metadata": {},
   "source": [
    "### Filter out interactions"
   ]
  },
  {
   "cell_type": "markdown",
   "id": "810c67f7",
   "metadata": {},
   "source": [
    "Options:\n",
    "- original: consider original retweet network\n",
    "- active: consider retweet network of users with more than 1 retweet\n",
    "- strong: consider retweet network of users with edge weight more than 1"
   ]
  },
  {
   "cell_type": "code",
   "execution_count": 9,
   "id": "1c9688cb",
   "metadata": {
    "scrolled": true
   },
   "outputs": [],
   "source": [
    "net= keep_retweet_interactions(net, keep=\"original\", t=2)"
   ]
  },
  {
   "cell_type": "markdown",
   "id": "7de02183",
   "metadata": {},
   "source": [
    "### Extract GCC of Network"
   ]
  },
  {
   "cell_type": "code",
   "execution_count": 10,
   "id": "a2c63d96",
   "metadata": {},
   "outputs": [
    {
     "name": "stdout",
     "output_type": "stream",
     "text": [
      "Network size:\n",
      "Graph with 1625 nodes and 993 edges\n",
      "\n",
      "GCC size:\n",
      "Graph with 50 nodes and 49 edges\n"
     ]
    }
   ],
   "source": [
    "Gcc = get_gcc_network(net, verbose=True)"
   ]
  },
  {
   "cell_type": "markdown",
   "id": "3908979d",
   "metadata": {},
   "source": [
    "### Load Tweet Texts"
   ]
  },
  {
   "cell_type": "code",
   "execution_count": 11,
   "id": "c11d8886",
   "metadata": {},
   "outputs": [],
   "source": [
    "path = \"../dummy_data/text/tweets.csv\"\n",
    "text_df = pd.read_csv(path)"
   ]
  },
  {
   "cell_type": "code",
   "execution_count": 12,
   "id": "18dcb24a",
   "metadata": {},
   "outputs": [
    {
     "data": {
      "text/html": [
       "<div>\n",
       "<style scoped>\n",
       "    .dataframe tbody tr th:only-of-type {\n",
       "        vertical-align: middle;\n",
       "    }\n",
       "\n",
       "    .dataframe tbody tr th {\n",
       "        vertical-align: top;\n",
       "    }\n",
       "\n",
       "    .dataframe thead th {\n",
       "        text-align: right;\n",
       "    }\n",
       "</style>\n",
       "<table border=\"1\" class=\"dataframe\">\n",
       "  <thead>\n",
       "    <tr style=\"text-align: right;\">\n",
       "      <th></th>\n",
       "      <th>nodeUserID</th>\n",
       "      <th>nodeID</th>\n",
       "      <th>topic</th>\n",
       "      <th>full_text</th>\n",
       "    </tr>\n",
       "  </thead>\n",
       "  <tbody>\n",
       "    <tr>\n",
       "      <th>0</th>\n",
       "      <td>user624</td>\n",
       "      <td>text12</td>\n",
       "      <td>1</td>\n",
       "      <td>Made-up text from topic1 text12</td>\n",
       "    </tr>\n",
       "    <tr>\n",
       "      <th>1</th>\n",
       "      <td>user344</td>\n",
       "      <td>text39</td>\n",
       "      <td>1</td>\n",
       "      <td>Made-up text from topic1 text39</td>\n",
       "    </tr>\n",
       "    <tr>\n",
       "      <th>2</th>\n",
       "      <td>user357</td>\n",
       "      <td>text70</td>\n",
       "      <td>2</td>\n",
       "      <td>Made-up text from topic2 text70</td>\n",
       "    </tr>\n",
       "    <tr>\n",
       "      <th>3</th>\n",
       "      <td>user1364</td>\n",
       "      <td>text2</td>\n",
       "      <td>1</td>\n",
       "      <td>Made-up text from topic1 text2</td>\n",
       "    </tr>\n",
       "    <tr>\n",
       "      <th>4</th>\n",
       "      <td>user624</td>\n",
       "      <td>text81</td>\n",
       "      <td>2</td>\n",
       "      <td>Made-up text from topic2 text81</td>\n",
       "    </tr>\n",
       "  </tbody>\n",
       "</table>\n",
       "</div>"
      ],
      "text/plain": [
       "  nodeUserID  nodeID  topic                        full_text\n",
       "0    user624  text12      1  Made-up text from topic1 text12\n",
       "1    user344  text39      1  Made-up text from topic1 text39\n",
       "2    user357  text70      2  Made-up text from topic2 text70\n",
       "3   user1364   text2      1   Made-up text from topic1 text2\n",
       "4    user624  text81      2  Made-up text from topic2 text81"
      ]
     },
     "execution_count": 12,
     "metadata": {},
     "output_type": "execute_result"
    }
   ],
   "source": [
    "text_df.head()"
   ]
  },
  {
   "cell_type": "code",
   "execution_count": 13,
   "id": "8c13893d",
   "metadata": {},
   "outputs": [],
   "source": [
    "path = \"../dummy_data/text/annotated_tweets.csv\"\n",
    "annotated_df = pd.read_csv(path)"
   ]
  },
  {
   "cell_type": "code",
   "execution_count": 14,
   "id": "53b82eee",
   "metadata": {},
   "outputs": [
    {
     "data": {
      "text/html": [
       "<div>\n",
       "<style scoped>\n",
       "    .dataframe tbody tr th:only-of-type {\n",
       "        vertical-align: middle;\n",
       "    }\n",
       "\n",
       "    .dataframe tbody tr th {\n",
       "        vertical-align: top;\n",
       "    }\n",
       "\n",
       "    .dataframe thead th {\n",
       "        text-align: right;\n",
       "    }\n",
       "</style>\n",
       "<table border=\"1\" class=\"dataframe\">\n",
       "  <thead>\n",
       "    <tr style=\"text-align: right;\">\n",
       "      <th></th>\n",
       "      <th>nodeUserID</th>\n",
       "      <th>nodeID</th>\n",
       "      <th>topic</th>\n",
       "      <th>full_text</th>\n",
       "      <th>stance</th>\n",
       "    </tr>\n",
       "  </thead>\n",
       "  <tbody>\n",
       "    <tr>\n",
       "      <th>0</th>\n",
       "      <td>user802</td>\n",
       "      <td>text101</td>\n",
       "      <td>3</td>\n",
       "      <td>Annotated text example</td>\n",
       "      <td>anti</td>\n",
       "    </tr>\n",
       "    <tr>\n",
       "      <th>1</th>\n",
       "      <td>user1375</td>\n",
       "      <td>text102</td>\n",
       "      <td>3</td>\n",
       "      <td>Annotated text example</td>\n",
       "      <td>pro</td>\n",
       "    </tr>\n",
       "    <tr>\n",
       "      <th>2</th>\n",
       "      <td>user259</td>\n",
       "      <td>text103</td>\n",
       "      <td>3</td>\n",
       "      <td>Annotated text example</td>\n",
       "      <td>pro</td>\n",
       "    </tr>\n",
       "    <tr>\n",
       "      <th>3</th>\n",
       "      <td>user585</td>\n",
       "      <td>text104</td>\n",
       "      <td>3</td>\n",
       "      <td>Annotated text example</td>\n",
       "      <td>anti</td>\n",
       "    </tr>\n",
       "    <tr>\n",
       "      <th>4</th>\n",
       "      <td>user1501</td>\n",
       "      <td>text105</td>\n",
       "      <td>3</td>\n",
       "      <td>Annotated text example</td>\n",
       "      <td>anti</td>\n",
       "    </tr>\n",
       "  </tbody>\n",
       "</table>\n",
       "</div>"
      ],
      "text/plain": [
       "  nodeUserID   nodeID  topic               full_text stance\n",
       "0    user802  text101      3  Annotated text example   anti\n",
       "1   user1375  text102      3  Annotated text example    pro\n",
       "2    user259  text103      3  Annotated text example    pro\n",
       "3    user585  text104      3  Annotated text example   anti\n",
       "4   user1501  text105      3  Annotated text example   anti"
      ]
     },
     "execution_count": 14,
     "metadata": {},
     "output_type": "execute_result"
    }
   ],
   "source": [
    "annotated_df.head()"
   ]
  },
  {
   "cell_type": "markdown",
   "id": "e5ef69a4",
   "metadata": {},
   "source": [
    "### Text Preprocessing"
   ]
  },
  {
   "cell_type": "code",
   "execution_count": 15,
   "id": "bed50221",
   "metadata": {},
   "outputs": [],
   "source": [
    "# Drop duplicated IDs\n",
    "text_df = text_df.drop_duplicates('nodeID').reset_index(drop=True)"
   ]
  },
  {
   "cell_type": "code",
   "execution_count": 16,
   "id": "78ea5d6a",
   "metadata": {},
   "outputs": [],
   "source": [
    "# Extract clean string of characters\n",
    "text_df[\"clean_str\"] = text_df[\"full_text\"].apply(clean_text)\n",
    "annotated_df[\"clean_str\"] = annotated_df[\"full_text\"].apply(clean_text)"
   ]
  },
  {
   "cell_type": "code",
   "execution_count": 17,
   "id": "e1616e6d",
   "metadata": {},
   "outputs": [],
   "source": [
    "# Remove URLs from tweets\n",
    "text_df['clean_text'] = text_df['full_text'].apply(just_text)"
   ]
  },
  {
   "cell_type": "code",
   "execution_count": 18,
   "id": "434afc6e",
   "metadata": {},
   "outputs": [],
   "source": [
    "# Remove tweets with less than 20 characters\n",
    "text_df = text_df.loc[text_df['clean_str'].str.len()>=20].reset_index(drop=True)"
   ]
  },
  {
   "cell_type": "code",
   "execution_count": 19,
   "id": "27300627",
   "metadata": {},
   "outputs": [],
   "source": [
    "# Remove duplicated tweets\n",
    "text_df = text_df.drop_duplicates(subset=['clean_str']) # Fuzzy duplicate detection"
   ]
  },
  {
   "cell_type": "code",
   "execution_count": 20,
   "id": "ff8d240e",
   "metadata": {},
   "outputs": [],
   "source": [
    "# Drop duplicated tweets from annotated data\n",
    "drop_tweets = pd.merge(annotated_df, text_df, on='clean_str', how='inner')['nodeID_y'].unique()\n",
    "text_df = text_df.loc[~text_df['nodeID'].isin(drop_tweets)].reset_index(drop=True)"
   ]
  },
  {
   "cell_type": "code",
   "execution_count": 21,
   "id": "d874958a",
   "metadata": {},
   "outputs": [],
   "source": [
    "# Create a mapping of IDs to texts\n",
    "map_text = dict(zip(text_df.nodeID, text_df.clean_text))\n",
    "map_topic = dict(zip(text_df.nodeID, text_df.topic))"
   ]
  },
  {
   "cell_type": "markdown",
   "id": "07118747",
   "metadata": {},
   "source": [
    "### Split Text Dataframes"
   ]
  },
  {
   "cell_type": "code",
   "execution_count": 22,
   "id": "d7bbab0a",
   "metadata": {},
   "outputs": [
    {
     "name": "stdout",
     "output_type": "stream",
     "text": [
      "Number of users in the network: 50\n",
      "Number of engaged users: 34\n"
     ]
    }
   ],
   "source": [
    "network_users = set(Gcc.nodes()) # Extract users in the network\n",
    "engaged_users = list(set(text_df[\"nodeUserID\"]) & network_users) # Extract users who post and interact\n",
    "\n",
    "print(\"Number of users in the network:\", len(network_users))\n",
    "print(\"Number of engaged users:\", len(engaged_users))"
   ]
  },
  {
   "cell_type": "code",
   "execution_count": 23,
   "id": "5d7544e8",
   "metadata": {},
   "outputs": [
    {
     "data": {
      "text/html": [
       "<div>\n",
       "<style scoped>\n",
       "    .dataframe tbody tr th:only-of-type {\n",
       "        vertical-align: middle;\n",
       "    }\n",
       "\n",
       "    .dataframe tbody tr th {\n",
       "        vertical-align: top;\n",
       "    }\n",
       "\n",
       "    .dataframe thead th {\n",
       "        text-align: right;\n",
       "    }\n",
       "</style>\n",
       "<table border=\"1\" class=\"dataframe\">\n",
       "  <thead>\n",
       "    <tr style=\"text-align: right;\">\n",
       "      <th></th>\n",
       "      <th>nodeUserID</th>\n",
       "      <th>nodeID</th>\n",
       "      <th>topic</th>\n",
       "    </tr>\n",
       "  </thead>\n",
       "  <tbody>\n",
       "    <tr>\n",
       "      <th>0</th>\n",
       "      <td>user624</td>\n",
       "      <td>text12</td>\n",
       "      <td>1</td>\n",
       "    </tr>\n",
       "    <tr>\n",
       "      <th>1</th>\n",
       "      <td>user344</td>\n",
       "      <td>text39</td>\n",
       "      <td>1</td>\n",
       "    </tr>\n",
       "    <tr>\n",
       "      <th>2</th>\n",
       "      <td>user357</td>\n",
       "      <td>text70</td>\n",
       "      <td>2</td>\n",
       "    </tr>\n",
       "    <tr>\n",
       "      <th>3</th>\n",
       "      <td>user1364</td>\n",
       "      <td>text2</td>\n",
       "      <td>1</td>\n",
       "    </tr>\n",
       "    <tr>\n",
       "      <th>4</th>\n",
       "      <td>user624</td>\n",
       "      <td>text81</td>\n",
       "      <td>2</td>\n",
       "    </tr>\n",
       "  </tbody>\n",
       "</table>\n",
       "</div>"
      ],
      "text/plain": [
       "  nodeUserID  nodeID  topic\n",
       "0    user624  text12      1\n",
       "1    user344  text39      1\n",
       "2    user357  text70      2\n",
       "3   user1364   text2      1\n",
       "4    user624  text81      2"
      ]
     },
     "execution_count": 23,
     "metadata": {},
     "output_type": "execute_result"
    }
   ],
   "source": [
    "# Text dataframe of users who appear in the network and generate content\n",
    "df_engaged = text_df[[\"nodeUserID\", \"nodeID\", \"topic\"]].copy()\n",
    "df_engaged = df_engaged.loc[df_engaged['nodeUserID'].isin(set(engaged_users))].reset_index(drop=True) \n",
    "df_engaged.head()"
   ]
  },
  {
   "cell_type": "code",
   "execution_count": 24,
   "id": "25da397f",
   "metadata": {},
   "outputs": [
    {
     "data": {
      "text/html": [
       "<div>\n",
       "<style scoped>\n",
       "    .dataframe tbody tr th:only-of-type {\n",
       "        vertical-align: middle;\n",
       "    }\n",
       "\n",
       "    .dataframe tbody tr th {\n",
       "        vertical-align: top;\n",
       "    }\n",
       "\n",
       "    .dataframe thead th {\n",
       "        text-align: right;\n",
       "    }\n",
       "</style>\n",
       "<table border=\"1\" class=\"dataframe\">\n",
       "  <thead>\n",
       "    <tr style=\"text-align: right;\">\n",
       "      <th></th>\n",
       "      <th>nodeUserID</th>\n",
       "      <th>nodeID</th>\n",
       "      <th>topic</th>\n",
       "    </tr>\n",
       "  </thead>\n",
       "  <tbody>\n",
       "    <tr>\n",
       "      <th>0</th>\n",
       "      <td>self user624</td>\n",
       "      <td>self text12</td>\n",
       "      <td>1</td>\n",
       "    </tr>\n",
       "    <tr>\n",
       "      <th>1</th>\n",
       "      <td>self user344</td>\n",
       "      <td>self text39</td>\n",
       "      <td>1</td>\n",
       "    </tr>\n",
       "    <tr>\n",
       "      <th>2</th>\n",
       "      <td>self user357</td>\n",
       "      <td>self text70</td>\n",
       "      <td>2</td>\n",
       "    </tr>\n",
       "    <tr>\n",
       "      <th>3</th>\n",
       "      <td>self user1364</td>\n",
       "      <td>self text2</td>\n",
       "      <td>1</td>\n",
       "    </tr>\n",
       "    <tr>\n",
       "      <th>4</th>\n",
       "      <td>self user624</td>\n",
       "      <td>self text81</td>\n",
       "      <td>2</td>\n",
       "    </tr>\n",
       "  </tbody>\n",
       "</table>\n",
       "</div>"
      ],
      "text/plain": [
       "      nodeUserID       nodeID  topic\n",
       "0   self user624  self text12      1\n",
       "1   self user344  self text39      1\n",
       "2   self user357  self text70      2\n",
       "3  self user1364   self text2      1\n",
       "4   self user624  self text81      2"
      ]
     },
     "execution_count": 24,
     "metadata": {},
     "output_type": "execute_result"
    }
   ],
   "source": [
    "# Text dataframe of users who only generate content\n",
    "df_self = text_df[[\"nodeUserID\", \"nodeID\", \"topic\"]].copy()\n",
    "df_self = df_self.loc[~df_self['nodeUserID'].isin(set(engaged_users))].reset_index(drop=True)\n",
    "df_self.head()"
   ]
  },
  {
   "cell_type": "markdown",
   "id": "1995a35e",
   "metadata": {},
   "source": [
    "### Split Users into Train, Val and Test"
   ]
  },
  {
   "cell_type": "code",
   "execution_count": 25,
   "id": "8b53865d",
   "metadata": {},
   "outputs": [],
   "source": [
    "# Return a list of users and corresponding topic labels \n",
    "X, y = generate_topic_label_per_user(df_engaged)\n",
    "X_self, y_self = generate_topic_label_per_user(df_self)"
   ]
  },
  {
   "cell_type": "markdown",
   "id": "1f2d8875",
   "metadata": {},
   "source": [
    "##### Sampling parameters"
   ]
  },
  {
   "cell_type": "code",
   "execution_count": 26,
   "id": "cc967f37",
   "metadata": {},
   "outputs": [],
   "source": [
    "# Set ratio of users for train, val, and test splits\n",
    "train_ratio = 0.7\n",
    "val_ratio = 0.15\n",
    "test_ratio = 0.15 \n",
    "\n",
    "test_size = test_ratio/(test_ratio + val_ratio)"
   ]
  },
  {
   "cell_type": "code",
   "execution_count": 27,
   "id": "b8a63312",
   "metadata": {},
   "outputs": [],
   "source": [
    "# Users in train split\n",
    "X_train, new_X, y_train, new_y = generate_train_test_split(X, \n",
    "                                                           y, \n",
    "                                                           size_ratio=train_ratio)\n",
    "\n",
    "X_train_self, new_X_self, y_train_self, new_y_self = generate_train_test_split(X_self, \n",
    "                                                                               y_self, \n",
    "                                                                               size_ratio=train_ratio)"
   ]
  },
  {
   "cell_type": "code",
   "execution_count": 28,
   "id": "ca77952e",
   "metadata": {},
   "outputs": [],
   "source": [
    "# Users in validation and test splits\n",
    "X_val, X_test, y_val, y_test = generate_train_test_split(new_X, \n",
    "                                                         new_y, \n",
    "                                                         size_ratio=test_size)\n",
    "\n",
    "X_val_self, X_test_self, y_val_self, y_test_self = generate_train_test_split(new_X_self, \n",
    "                                                                             new_y_self, \n",
    "                                                                             size_ratio=test_size)"
   ]
  },
  {
   "cell_type": "code",
   "execution_count": 29,
   "id": "d83a790c",
   "metadata": {},
   "outputs": [
    {
     "name": "stdout",
     "output_type": "stream",
     "text": [
      "Number of users in train split: 23 in network and 23 not in network\n",
      "Number of users in val split: 5 in network and 5 not in network\n",
      "Number of users in test split: 6 in network and 6 not in network\n"
     ]
    }
   ],
   "source": [
    "print(f\"Number of users in train split: {len(X_train)} in network and {len(X_train_self)} not in network\")\n",
    "print(f\"Number of users in val split: {len(X_val)} in network and {len(X_val_self)} not in network\")\n",
    "print(f\"Number of users in test split: {len(X_test)} in network and {len(X_test_self)} not in network\")"
   ]
  },
  {
   "cell_type": "markdown",
   "id": "0bb5a284",
   "metadata": {},
   "source": [
    "### Randomly Sample User Pairs"
   ]
  },
  {
   "cell_type": "markdown",
   "id": "dc2b5dc6",
   "metadata": {},
   "source": [
    "##### Parameters for split size"
   ]
  },
  {
   "cell_type": "code",
   "execution_count": 30,
   "id": "59b95835",
   "metadata": {},
   "outputs": [
    {
     "name": "stdout",
     "output_type": "stream",
     "text": [
      "140 30 30\n"
     ]
    }
   ],
   "source": [
    "n = 200 # total number of examples\n",
    "\n",
    "n_train = round(n * 0.7) # % of pairs on training\n",
    "n_val = round(n * 0.15) # % of pairs on validation\n",
    "n_test = round(n * 0.15) # % of pairs on test\n",
    "\n",
    "print(n_train, n_val, n_test)"
   ]
  },
  {
   "cell_type": "markdown",
   "id": "1d6dada4",
   "metadata": {},
   "source": [
    "##### Compute weighted probability of topics from the train split"
   ]
  },
  {
   "cell_type": "code",
   "execution_count": 31,
   "id": "636b597e",
   "metadata": {},
   "outputs": [],
   "source": [
    "train_users = X_train + X_train_self"
   ]
  },
  {
   "cell_type": "code",
   "execution_count": 32,
   "id": "ef8ad010",
   "metadata": {},
   "outputs": [],
   "source": [
    "topic_weights = compute_topic_probability(text_df, user_list=train_users)"
   ]
  },
  {
   "cell_type": "markdown",
   "id": "6817df20",
   "metadata": {},
   "source": [
    "##### Sampling parameters for users pairs "
   ]
  },
  {
   "cell_type": "code",
   "execution_count": 34,
   "id": "cf623197",
   "metadata": {},
   "outputs": [],
   "source": [
    "params = {\n",
    "    # Parameters for distant user pairs\n",
    "    \"n_users\":100, # Number of random users to sample at each iteration \n",
    "    \"n_pairs\":100, # Number of pairs to sample from n_users combinations\n",
    "    \n",
    "    # Parameters for close user pairs\n",
    "    \"max_onehop_pairs\":2, # The number of 1-hop neighbors to draw for each seed user\n",
    "    \"max_twohop_pairs\":2, # The number of 2-hop neighbors to draw for each seed user\n",
    "    \"max_neighbors\":7, # The number of 2-hop neighbors to explore for each seed user\n",
    "\n",
    "    \"frac_one_hop\":0.5, # Fraction of 1-hop neighbors out of close pairs size \n",
    "    \"close_pairs_split\":0.45, # Fraction of pairs from close connections out of all connections\n",
    "    \"topic_weights\":topic_weights # topic weights for stratification\n",
    "}"
   ]
  },
  {
   "cell_type": "markdown",
   "id": "7631511f",
   "metadata": {},
   "source": [
    "##### Sample Train Split"
   ]
  },
  {
   "cell_type": "code",
   "execution_count": 35,
   "id": "f1641bef",
   "metadata": {
    "scrolled": true
   },
   "outputs": [
    {
     "name": "stdout",
     "output_type": "stream",
     "text": [
      "Processing Topic: 1\n",
      "# 0-hop pairs:14\n"
     ]
    },
    {
     "name": "stderr",
     "output_type": "stream",
     "text": [
      "100%|████████████████████████████████████████████████████████████████████████████████████████| 21/21 [00:00<00:00, 10770.41it/s]\n",
      "100%|█████████████████████████████████████████████████████████████████████████████████████████| 21/21 [00:00<00:00, 3797.06it/s]\n"
     ]
    },
    {
     "name": "stdout",
     "output_type": "stream",
     "text": [
      "# 1-hop pairs:0\n",
      "# 2-hop pairs:20\n",
      "# Distant pairs:52\n",
      "----------------------------------------------------------------------------------------------------\n",
      "\n",
      "Processing Topic: 2\n",
      "# 0-hop pairs:7\n"
     ]
    },
    {
     "name": "stderr",
     "output_type": "stream",
     "text": [
      "100%|████████████████████████████████████████████████████████████████████████████████████████| 10/10 [00:00<00:00, 16905.70it/s]\n",
      "100%|█████████████████████████████████████████████████████████████████████████████████████████| 10/10 [00:00<00:00, 5901.65it/s]"
     ]
    },
    {
     "name": "stdout",
     "output_type": "stream",
     "text": [
      "# 1-hop pairs:0\n",
      "# 2-hop pairs:10\n",
      "# Distant pairs:25\n",
      "----------------------------------------------------------------------------------------------------\n",
      "\n",
      "CPU times: user 202 ms, sys: 14.5 ms, total: 216 ms\n",
      "Wall time: 209 ms\n"
     ]
    },
    {
     "name": "stderr",
     "output_type": "stream",
     "text": [
      "\n"
     ]
    }
   ],
   "source": [
    "%%time\n",
    "df_close_train, df_distant_train = get_pairs_from_topics(Gcc, \n",
    "                                                         text_df, \n",
    "                                                         users=X_train, \n",
    "                                                         network_users=network_users,  \n",
    "                                                         params=params, \n",
    "                                                         n=n_train, \n",
    "                                                         non_network_users=X_train_self)"
   ]
  },
  {
   "cell_type": "code",
   "execution_count": 36,
   "id": "fa4e2129",
   "metadata": {},
   "outputs": [
    {
     "data": {
      "text/plain": [
       "(51, 77)"
      ]
     },
     "execution_count": 36,
     "metadata": {},
     "output_type": "execute_result"
    }
   ],
   "source": [
    "len(df_close_train), len(df_distant_train)"
   ]
  },
  {
   "cell_type": "markdown",
   "id": "a4c05913",
   "metadata": {},
   "source": [
    "##### Sample Val Split"
   ]
  },
  {
   "cell_type": "code",
   "execution_count": 37,
   "id": "1e820a78",
   "metadata": {
    "scrolled": true
   },
   "outputs": [
    {
     "name": "stdout",
     "output_type": "stream",
     "text": [
      "Processing Topic: 1\n",
      "# 0-hop pairs:3\n"
     ]
    },
    {
     "name": "stderr",
     "output_type": "stream",
     "text": [
      "100%|███████████████████████████████████████████████████████████████████████████████████████████| 5/5 [00:00<00:00, 8709.10it/s]\n",
      "100%|███████████████████████████████████████████████████████████████████████████████████████████| 5/5 [00:00<00:00, 4110.45it/s]\n"
     ]
    },
    {
     "name": "stdout",
     "output_type": "stream",
     "text": [
      "# 1-hop pairs:0\n",
      "# 2-hop pairs:4\n",
      "Distant pairs added to candidate pool: 0...\n",
      "Distant pairs added to candidate pool: 0...\n",
      "Distant pairs added to candidate pool: 0...\n",
      "Distant pairs added to candidate pool: 0...\n",
      "Distant pairs added to candidate pool: 0...\n",
      "Distant pairs added to candidate pool: 0...\n",
      "Distant pairs added to candidate pool: 0...\n",
      "Distant pairs added to candidate pool: 0...\n",
      "Distant pairs added to candidate pool: 0...\n",
      "Distant pairs added to candidate pool: 0...\n",
      "# Distant pairs:6\n",
      "----------------------------------------------------------------------------------------------------\n",
      "\n",
      "Processing Topic: 2\n",
      "# 0-hop pairs:1\n"
     ]
    },
    {
     "name": "stderr",
     "output_type": "stream",
     "text": [
      "100%|██████████████████████████████████████████████████████████████████████████████████████████| 3/3 [00:00<00:00, 11554.56it/s]\n",
      "100%|███████████████████████████████████████████████████████████████████████████████████████████| 3/3 [00:00<00:00, 5318.22it/s]"
     ]
    },
    {
     "name": "stdout",
     "output_type": "stream",
     "text": [
      "# 1-hop pairs:0\n",
      "# 2-hop pairs:3\n",
      "Distant pairs added to candidate pool: 0...\n",
      "Distant pairs added to candidate pool: 0...\n",
      "Distant pairs added to candidate pool: 0...\n",
      "Distant pairs added to candidate pool: 0...\n",
      "Distant pairs added to candidate pool: 0...\n",
      "Distant pairs added to candidate pool: 0...\n",
      "Distant pairs added to candidate pool: 0...\n",
      "Distant pairs added to candidate pool: 0...\n",
      "Distant pairs added to candidate pool: 0...\n",
      "Distant pairs added to candidate pool: 0...\n",
      "# Distant pairs:0\n",
      "----------------------------------------------------------------------------------------------------\n",
      "\n",
      "CPU times: user 85.3 ms, sys: 8.72 ms, total: 94 ms\n",
      "Wall time: 85.5 ms\n"
     ]
    },
    {
     "name": "stderr",
     "output_type": "stream",
     "text": [
      "\n"
     ]
    }
   ],
   "source": [
    "%%time\n",
    "df_close_val, df_distant_val = get_pairs_from_topics(Gcc, \n",
    "                                                     text_df, \n",
    "                                                     users=X_val, \n",
    "                                                     network_users=network_users,  \n",
    "                                                     params=params, \n",
    "                                                     n=n_val, \n",
    "                                                     non_network_users=X_val_self)"
   ]
  },
  {
   "cell_type": "code",
   "execution_count": 38,
   "id": "cc89829f",
   "metadata": {},
   "outputs": [
    {
     "data": {
      "text/plain": [
       "(11, 6)"
      ]
     },
     "execution_count": 38,
     "metadata": {},
     "output_type": "execute_result"
    }
   ],
   "source": [
    "len(df_close_val), len(df_distant_val)"
   ]
  },
  {
   "cell_type": "markdown",
   "id": "bc10b316",
   "metadata": {},
   "source": [
    "##### Sample Test Split"
   ]
  },
  {
   "cell_type": "code",
   "execution_count": 39,
   "id": "14a2404d",
   "metadata": {
    "scrolled": true
   },
   "outputs": [
    {
     "name": "stdout",
     "output_type": "stream",
     "text": [
      "Processing Topic: 1\n",
      "# 0-hop pairs:3\n"
     ]
    },
    {
     "name": "stderr",
     "output_type": "stream",
     "text": [
      "100%|███████████████████████████████████████████████████████████████████████████████████████████| 5/5 [00:00<00:00, 7423.55it/s]\n",
      "100%|███████████████████████████████████████████████████████████████████████████████████████████| 5/5 [00:00<00:00, 4211.99it/s]\n"
     ]
    },
    {
     "name": "stdout",
     "output_type": "stream",
     "text": [
      "# 1-hop pairs:0\n",
      "# 2-hop pairs:5\n",
      "Distant pairs added to candidate pool: 0...\n",
      "Distant pairs added to candidate pool: 0...\n",
      "Distant pairs added to candidate pool: 0...\n",
      "Distant pairs added to candidate pool: 0...\n",
      "Distant pairs added to candidate pool: 0...\n",
      "Distant pairs added to candidate pool: 0...\n",
      "Distant pairs added to candidate pool: 0...\n",
      "Distant pairs added to candidate pool: 0...\n",
      "Distant pairs added to candidate pool: 0...\n",
      "Distant pairs added to candidate pool: 0...\n",
      "# Distant pairs:5\n",
      "----------------------------------------------------------------------------------------------------\n",
      "\n",
      "Processing Topic: 2\n",
      "# 0-hop pairs:1\n"
     ]
    },
    {
     "name": "stderr",
     "output_type": "stream",
     "text": [
      "100%|██████████████████████████████████████████████████████████████████████████████████████████| 4/4 [00:00<00:00, 11915.64it/s]\n",
      "100%|███████████████████████████████████████████████████████████████████████████████████████████| 4/4 [00:00<00:00, 5769.33it/s]"
     ]
    },
    {
     "name": "stdout",
     "output_type": "stream",
     "text": [
      "# 1-hop pairs:0\n",
      "# 2-hop pairs:3\n",
      "Distant pairs added to candidate pool: 0...\n",
      "Distant pairs added to candidate pool: 0...\n",
      "Distant pairs added to candidate pool: 0...\n",
      "Distant pairs added to candidate pool: 0...\n",
      "Distant pairs added to candidate pool: 0...\n",
      "Distant pairs added to candidate pool: 0...\n",
      "Distant pairs added to candidate pool: 0...\n",
      "Distant pairs added to candidate pool: 0...\n",
      "Distant pairs added to candidate pool: 0...\n",
      "Distant pairs added to candidate pool: 0...\n",
      "# Distant pairs:3\n",
      "----------------------------------------------------------------------------------------------------\n",
      "\n",
      "CPU times: user 88.7 ms, sys: 26.2 ms, total: 115 ms\n",
      "Wall time: 107 ms\n"
     ]
    },
    {
     "name": "stderr",
     "output_type": "stream",
     "text": [
      "\n"
     ]
    }
   ],
   "source": [
    "%%time\n",
    "df_close_test, df_distant_test = get_pairs_from_topics(Gcc, \n",
    "                                                       text_df,  \n",
    "                                                       users=X_test, \n",
    "                                                       network_users=network_users,  \n",
    "                                                       params=params, \n",
    "                                                       n=n_test, \n",
    "                                                       non_network_users=X_test_self)"
   ]
  },
  {
   "cell_type": "markdown",
   "id": "f48eec1c",
   "metadata": {},
   "source": [
    "### Compute Shortest Path Lengths"
   ]
  },
  {
   "cell_type": "code",
   "execution_count": 40,
   "id": "4a862589",
   "metadata": {},
   "outputs": [
    {
     "name": "stderr",
     "output_type": "stream",
     "text": [
      "100%|█████████████████████████████████████████████████████████████████████████████████████████| 77/77 [00:00<00:00, 7652.57it/s]"
     ]
    },
    {
     "name": "stdout",
     "output_type": "stream",
     "text": [
      "CPU times: user 13.2 ms, sys: 1.98 ms, total: 15.2 ms\n",
      "Wall time: 13.7 ms\n"
     ]
    },
    {
     "name": "stderr",
     "output_type": "stream",
     "text": [
      "\n"
     ]
    }
   ],
   "source": [
    "%%time\n",
    "df_distant_train[\"sp\"] = df_distant_train.progress_apply(lambda x: global_find_shortest_path(x[\"source\"],x[\"target\"]), axis=1)"
   ]
  },
  {
   "cell_type": "code",
   "execution_count": 41,
   "id": "e8f9459b",
   "metadata": {},
   "outputs": [
    {
     "name": "stderr",
     "output_type": "stream",
     "text": [
      "100%|███████████████████████████████████████████████████████████████████████████████████████████| 6/6 [00:00<00:00, 2257.02it/s]"
     ]
    },
    {
     "name": "stdout",
     "output_type": "stream",
     "text": [
      "CPU times: user 6.1 ms, sys: 925 µs, total: 7.03 ms\n",
      "Wall time: 5.96 ms\n"
     ]
    },
    {
     "name": "stderr",
     "output_type": "stream",
     "text": [
      "\n"
     ]
    }
   ],
   "source": [
    "%%time\n",
    "df_distant_val[\"sp\"] = df_distant_val.progress_apply(lambda x: global_find_shortest_path(x[\"source\"],x[\"target\"]), axis=1)"
   ]
  },
  {
   "cell_type": "code",
   "execution_count": 42,
   "id": "7d56b599",
   "metadata": {},
   "outputs": [
    {
     "name": "stderr",
     "output_type": "stream",
     "text": [
      "100%|███████████████████████████████████████████████████████████████████████████████████████████| 8/8 [00:00<00:00, 3579.90it/s]"
     ]
    },
    {
     "name": "stdout",
     "output_type": "stream",
     "text": [
      "CPU times: user 5.31 ms, sys: 1.26 ms, total: 6.57 ms\n",
      "Wall time: 5.39 ms\n"
     ]
    },
    {
     "name": "stderr",
     "output_type": "stream",
     "text": [
      "\n"
     ]
    }
   ],
   "source": [
    "%%time\n",
    "df_distant_test[\"sp\"] = df_distant_test.progress_apply(lambda x: global_find_shortest_path(x[\"source\"],x[\"target\"]), axis=1)"
   ]
  },
  {
   "cell_type": "markdown",
   "id": "6aa0e376",
   "metadata": {},
   "source": [
    "### Prepare Data Splits"
   ]
  },
  {
   "cell_type": "code",
   "execution_count": 43,
   "id": "e5d3b79c",
   "metadata": {},
   "outputs": [],
   "source": [
    "train = pd.concat([df_close_train, df_distant_train], ignore_index=True)\n",
    "val = pd.concat([df_close_val, df_distant_val], ignore_index=True)\n",
    "test = pd.concat([df_close_test, df_distant_test], ignore_index=True)"
   ]
  },
  {
   "cell_type": "code",
   "execution_count": 44,
   "id": "860ea5fe",
   "metadata": {},
   "outputs": [
    {
     "data": {
      "text/plain": [
       "((128, 5), (17, 5), (20, 5))"
      ]
     },
     "execution_count": 44,
     "metadata": {},
     "output_type": "execute_result"
    }
   ],
   "source": [
    "train.shape, val.shape, test.shape"
   ]
  },
  {
   "cell_type": "code",
   "execution_count": 45,
   "id": "a6d8405f",
   "metadata": {},
   "outputs": [],
   "source": [
    "# Shuffle data\n",
    "train = train.sample(frac=1).reset_index(drop=True)\n",
    "val = val.sample(frac=1).reset_index(drop=True)\n",
    "test = test.sample(frac=1).reset_index(drop=True)"
   ]
  },
  {
   "cell_type": "code",
   "execution_count": 46,
   "id": "ce08b211",
   "metadata": {},
   "outputs": [],
   "source": [
    "# Add tweet text\n",
    "train[\"tweet1\"] = train[\"source_tweet\"].map(map_text)\n",
    "train[\"tweet2\"] = train[\"target_tweet\"].map(map_text)\n",
    "\n",
    "val[\"tweet1\"] = val[\"source_tweet\"].map(map_text)\n",
    "val[\"tweet2\"] = val[\"target_tweet\"].map(map_text)\n",
    "\n",
    "test[\"tweet1\"] = test[\"source_tweet\"].map(map_text)\n",
    "test[\"tweet2\"] = test[\"target_tweet\"].map(map_text)"
   ]
  },
  {
   "cell_type": "code",
   "execution_count": 47,
   "id": "f0f4c10a",
   "metadata": {},
   "outputs": [],
   "source": [
    "# add tweet topic\n",
    "train[\"tweet1_topic\"] = train[\"source_tweet\"].map(map_topic)\n",
    "train[\"tweet2_topic\"] = train[\"target_tweet\"].map(map_topic)\n",
    "\n",
    "val[\"tweet1_topic\"] = val[\"source_tweet\"].map(map_topic)\n",
    "val[\"tweet2_topic\"] = val[\"target_tweet\"].map(map_topic)\n",
    "\n",
    "test[\"tweet1_topic\"] = test[\"source_tweet\"].map(map_topic)\n",
    "test[\"tweet2_topic\"] = test[\"target_tweet\"].map(map_topic)"
   ]
  },
  {
   "cell_type": "markdown",
   "id": "41965f1c",
   "metadata": {},
   "source": [
    "### Save Data Splits"
   ]
  },
  {
   "cell_type": "code",
   "execution_count": null,
   "id": "4d23f107",
   "metadata": {},
   "outputs": [],
   "source": [
    "save_dir = \"../dummy_data/data_splits\"\n",
    "# create_dir(path_to_save)"
   ]
  },
  {
   "cell_type": "code",
   "execution_count": null,
   "id": "20552103",
   "metadata": {},
   "outputs": [],
   "source": [
    "# Save data splits\n",
    "save_train = os.path.join(save_dir, \"train.csv\")\n",
    "save_val = os.path.join(save_dir, \"val.csv\")\n",
    "save_test = os.path.join(save_dir, \"test.csv\")\n",
    "\n",
    "if not os.path.exists(save_train):\n",
    "    train.to_csv(save_train, index=False)\n",
    "    print(\"saved\", save_train)\n",
    "if not os.path.exists(save_val):\n",
    "    val.to_csv(save_val, index=False)\n",
    "    print(\"saved\", save_val)\n",
    "if not os.path.exists(save_test):\n",
    "    test.to_csv(save_test, index=False)\n",
    "    print(\"saved\", save_test)"
   ]
  }
 ],
 "metadata": {
  "kernelspec": {
   "display_name": "py38",
   "language": "python",
   "name": "py38"
  },
  "language_info": {
   "codemirror_mode": {
    "name": "ipython",
    "version": 3
   },
   "file_extension": ".py",
   "mimetype": "text/x-python",
   "name": "python",
   "nbconvert_exporter": "python",
   "pygments_lexer": "ipython3",
   "version": "3.8.13"
  }
 },
 "nbformat": 4,
 "nbformat_minor": 5
}
